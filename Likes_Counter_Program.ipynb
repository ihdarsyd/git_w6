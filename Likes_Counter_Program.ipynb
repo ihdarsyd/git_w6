{
  "cells": [
    {
      "cell_type": "code",
      "execution_count": 1,
      "metadata": {
        "id": "bjYf-b-ZklIv"
      },
      "outputs": [],
      "source": [
        "blog_posts = [{'Photos': 3, 'Likes': 21, 'Comments': 2},\n",
        "              {'Likes': 13, 'Comments': 2, 'Shares': 1},\n",
        "              {'Photos': 5, 'Likes': 33, 'Comments': 8, 'Shares': 3},\n",
        "              {'Comments': 4, 'Shares': 2},\n",
        "              {'Photos': 8, 'Comments': 1, 'Shares': 1},\n",
        "              {'Photos': 3, 'Likes': 19, 'Comments': 3}]"
      ]
    },
    {
      "cell_type": "code",
      "execution_count": 7,
      "metadata": {},
      "outputs": [
        {
          "name": "stdout",
          "output_type": "stream",
          "text": [
            "data 1 : {'Photos': 3, 'Likes': 21, 'Comments': 2}\n",
            "data 2 : {'Likes': 13, 'Comments': 2, 'Shares': 1}\n",
            "data 3 : {'Photos': 5, 'Likes': 33, 'Comments': 8, 'Shares': 3}\n",
            "data 4 : {'Comments': 4, 'Shares': 2}\n",
            "data 5 : {'Photos': 8, 'Comments': 1, 'Shares': 1}\n",
            "data 6 : {'Photos': 3, 'Likes': 19, 'Comments': 3}\n"
          ]
        }
      ],
      "source": [
        "idx = 0\n",
        "for i in blog_posts:\n",
        "    idx = idx +1\n",
        "    print(f\"data {idx} : {i}\")"
      ]
    },
    {
      "cell_type": "code",
      "execution_count": null,
      "metadata": {},
      "outputs": [],
      "source": []
    }
  ],
  "metadata": {
    "colab": {
      "provenance": []
    },
    "kernelspec": {
      "display_name": "Python 3",
      "name": "python3"
    },
    "language_info": {
      "codemirror_mode": {
        "name": "ipython",
        "version": 3
      },
      "file_extension": ".py",
      "mimetype": "text/x-python",
      "name": "python",
      "nbconvert_exporter": "python",
      "pygments_lexer": "ipython3",
      "version": "3.11.9"
    }
  },
  "nbformat": 4,
  "nbformat_minor": 0
}
